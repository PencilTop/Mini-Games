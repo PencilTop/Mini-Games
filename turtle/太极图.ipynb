{
 "cells": [
  {
   "cell_type": "code",
   "execution_count": 1,
   "metadata": {},
   "outputs": [],
   "source": [
    "import turtle\n",
    "\n",
    "window = turtle.Screen()\n",
    "\n",
    "bage = turtle.Turtle()\n",
    "\n",
    "radius = 100\n",
    "bage.width(3)\n",
    "bage.color(\"black\", \"black\")\n",
    "bage.begin_fill()\n",
    "bage.circle(radius/2, 180)\n",
    "bage.circle(radius, 180)\n",
    "bage.left(180)\n",
    "bage.circle(-radius/2, 180)\n",
    "bage.end_fill()\n",
    "\n",
    "bage.left(90)\n",
    "bage.up()\n",
    "bage.forward(radius*0.35)\n",
    "bage.right(90)\n",
    "bage.down()\n",
    "bage.color(\"white\", \"white\")\n",
    "bage.begin_fill()\n",
    "bage.circle(radius*0.15)\n",
    "bage.end_fill()\n",
    "\n",
    "bage.left(90)\n",
    "bage.up()\n",
    "bage.backward(radius*0.7)\n",
    "bage.down()\n",
    "bage.left(90)\n",
    "bage.color(\"black\", \"black\")\n",
    "bage.begin_fill()\n",
    "bage.circle(radius*0.15)\n",
    "bage.end_fill()\n",
    "\n",
    "bage.right(90)\n",
    "bage.up()\n",
    "bage.backward(radius*0.65)\n",
    "bage.right(90)\n",
    "bage.down()\n",
    "bage.circle(radius, 180)\n",
    "bage.ht()\n",
    "    \n",
    "window.exitonclick()"
   ]
  },
  {
   "cell_type": "code",
   "execution_count": null,
   "metadata": {},
   "outputs": [],
   "source": []
  }
 ],
 "metadata": {
  "kernelspec": {
   "display_name": "Python 3",
   "language": "python",
   "name": "python3"
  },
  "language_info": {
   "codemirror_mode": {
    "name": "ipython",
    "version": 3
   },
   "file_extension": ".py",
   "mimetype": "text/x-python",
   "name": "python",
   "nbconvert_exporter": "python",
   "pygments_lexer": "ipython3",
   "version": "3.7.2"
  }
 },
 "nbformat": 4,
 "nbformat_minor": 2
}
