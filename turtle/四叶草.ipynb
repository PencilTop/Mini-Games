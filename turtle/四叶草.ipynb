{
 "cells": [
  {
   "cell_type": "code",
   "execution_count": 1,
   "metadata": {},
   "outputs": [],
   "source": [
    "import turtle\n",
    "import time"
   ]
  },
  {
   "cell_type": "code",
   "execution_count": 2,
   "metadata": {},
   "outputs": [],
   "source": [
    "turtle.setup(650.,350,200,200)\n",
    "turtle.pendown()\n",
    "turtle.pensize(10)\n",
    "turtle.pencolor('green')"
   ]
  },
  {
   "cell_type": "code",
   "execution_count": 3,
   "metadata": {},
   "outputs": [],
   "source": [
    "#四叶草\n",
    "def draw_clover(radius,rotate):            #参数radius控制叶子的大小,rotate控制叶子的旋转\n",
    "    for i in range(4):\n",
    "        direction = i*90\n",
    "        turtle.seth(60+direction+rotate)   #控制叶子根部的角度为60度\n",
    "        # turtle.fd(2*radius*pow(2,1/2))   #控制叶子根部的角度为90度\n",
    "        turtle.fd(4*radius)\n",
    "        for j in range(2):\n",
    "             turtle.seth(90+direction+rotate)\n",
    "             turtle.circle(radius,180)\n",
    "        turtle.seth(-60+direction+rotate)\n",
    "        turtle.fd(4*radius)\n",
    "    turtle.seth(-90)\n",
    "    turtle.fd(6*radius)"
   ]
  },
  {
   "cell_type": "code",
   "execution_count": null,
   "metadata": {},
   "outputs": [],
   "source": [
    "draw_clover(30,45)\n",
    "time.sleep(5)"
   ]
  },
  {
   "cell_type": "code",
   "execution_count": 4,
   "metadata": {},
   "outputs": [],
   "source": [
    "turtle.mainloop()"
   ]
  }
 ],
 "metadata": {
  "kernelspec": {
   "display_name": "Python 3",
   "language": "python",
   "name": "python3"
  },
  "language_info": {
   "codemirror_mode": {
    "name": "ipython",
    "version": 3
   },
   "file_extension": ".py",
   "mimetype": "text/x-python",
   "name": "python",
   "nbconvert_exporter": "python",
   "pygments_lexer": "ipython3",
   "version": "3.7.2"
  }
 },
 "nbformat": 4,
 "nbformat_minor": 2
}
